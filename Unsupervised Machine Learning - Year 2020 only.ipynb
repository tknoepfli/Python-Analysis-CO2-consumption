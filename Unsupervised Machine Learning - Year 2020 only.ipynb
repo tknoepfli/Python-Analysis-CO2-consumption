{
 "cells": [
  {
   "cell_type": "markdown",
   "id": "1a56c9c2",
   "metadata": {},
   "source": [
    "### 1. Importing libraries and data"
   ]
  },
  {
   "cell_type": "code",
   "execution_count": 2,
   "id": "e1bbaaf8",
   "metadata": {},
   "outputs": [],
   "source": [
    "import pandas as pd\n",
    "import numpy as np\n",
    "import seaborn as sns\n",
    "import matplotlib\n",
    "import matplotlib.pyplot as plt\n",
    "import os\n",
    "import sklearn\n",
    "from sklearn.preprocessing import StandardScaler\n",
    "from sklearn.cluster import KMeans\n",
    "from sklearn.decomposition import PCA\n",
    "import pylab as pl\n",
    "import plotly.express as px"
   ]
  },
  {
   "cell_type": "code",
   "execution_count": 3,
   "id": "5fdc915f",
   "metadata": {},
   "outputs": [],
   "source": [
    "%matplotlib inline"
   ]
  },
  {
   "cell_type": "code",
   "execution_count": 4,
   "id": "b8c6389b",
   "metadata": {},
   "outputs": [],
   "source": [
    "path = '/Users/timovic/Desktop/Climate Analysis - battle station/02 Data'"
   ]
  },
  {
   "cell_type": "code",
   "execution_count": 17,
   "id": "7294ecfc",
   "metadata": {},
   "outputs": [],
   "source": [
    "df = pd.read_pickle(os.path.join(path, 'Prepared Data', 'merged_all.pkl'))"
   ]
  },
  {
   "cell_type": "code",
   "execution_count": 18,
   "id": "100a67b0",
   "metadata": {},
   "outputs": [
    {
     "data": {
      "text/plain": [
       "(6045, 9)"
      ]
     },
     "execution_count": 18,
     "metadata": {},
     "output_type": "execute_result"
    }
   ],
   "source": [
    "df.shape"
   ]
  },
  {
   "cell_type": "code",
   "execution_count": 19,
   "id": "90be603c",
   "metadata": {},
   "outputs": [
    {
     "data": {
      "text/html": [
       "<div>\n",
       "<style scoped>\n",
       "    .dataframe tbody tr th:only-of-type {\n",
       "        vertical-align: middle;\n",
       "    }\n",
       "\n",
       "    .dataframe tbody tr th {\n",
       "        vertical-align: top;\n",
       "    }\n",
       "\n",
       "    .dataframe thead th {\n",
       "        text-align: right;\n",
       "    }\n",
       "</style>\n",
       "<table border=\"1\" class=\"dataframe\">\n",
       "  <thead>\n",
       "    <tr style=\"text-align: right;\">\n",
       "      <th></th>\n",
       "      <th>country</th>\n",
       "      <th>year</th>\n",
       "      <th>hdi</th>\n",
       "      <th>gni</th>\n",
       "      <th>co2_consumption</th>\n",
       "      <th>happiness</th>\n",
       "      <th>hdi_groups</th>\n",
       "      <th>undp_regions</th>\n",
       "      <th>happiness category</th>\n",
       "    </tr>\n",
       "  </thead>\n",
       "  <tbody>\n",
       "    <tr>\n",
       "      <th>0</th>\n",
       "      <td>Afghanistan</td>\n",
       "      <td>1990</td>\n",
       "      <td>0.273</td>\n",
       "      <td>2684.550019</td>\n",
       "      <td>NaN</td>\n",
       "      <td>NaN</td>\n",
       "      <td>Low</td>\n",
       "      <td>SA</td>\n",
       "      <td>NaN</td>\n",
       "    </tr>\n",
       "    <tr>\n",
       "      <th>1</th>\n",
       "      <td>Afghanistan</td>\n",
       "      <td>1991</td>\n",
       "      <td>0.279</td>\n",
       "      <td>2276.289409</td>\n",
       "      <td>NaN</td>\n",
       "      <td>NaN</td>\n",
       "      <td>Low</td>\n",
       "      <td>SA</td>\n",
       "      <td>NaN</td>\n",
       "    </tr>\n",
       "    <tr>\n",
       "      <th>2</th>\n",
       "      <td>Afghanistan</td>\n",
       "      <td>1992</td>\n",
       "      <td>0.287</td>\n",
       "      <td>2059.868084</td>\n",
       "      <td>NaN</td>\n",
       "      <td>NaN</td>\n",
       "      <td>Low</td>\n",
       "      <td>SA</td>\n",
       "      <td>NaN</td>\n",
       "    </tr>\n",
       "    <tr>\n",
       "      <th>3</th>\n",
       "      <td>Afghanistan</td>\n",
       "      <td>1993</td>\n",
       "      <td>0.297</td>\n",
       "      <td>1525.533426</td>\n",
       "      <td>NaN</td>\n",
       "      <td>NaN</td>\n",
       "      <td>Low</td>\n",
       "      <td>SA</td>\n",
       "      <td>NaN</td>\n",
       "    </tr>\n",
       "    <tr>\n",
       "      <th>4</th>\n",
       "      <td>Afghanistan</td>\n",
       "      <td>1994</td>\n",
       "      <td>0.292</td>\n",
       "      <td>1087.961890</td>\n",
       "      <td>NaN</td>\n",
       "      <td>NaN</td>\n",
       "      <td>Low</td>\n",
       "      <td>SA</td>\n",
       "      <td>NaN</td>\n",
       "    </tr>\n",
       "  </tbody>\n",
       "</table>\n",
       "</div>"
      ],
      "text/plain": [
       "       country  year    hdi          gni  co2_consumption  happiness  \\\n",
       "0  Afghanistan  1990  0.273  2684.550019              NaN        NaN   \n",
       "1  Afghanistan  1991  0.279  2276.289409              NaN        NaN   \n",
       "2  Afghanistan  1992  0.287  2059.868084              NaN        NaN   \n",
       "3  Afghanistan  1993  0.297  1525.533426              NaN        NaN   \n",
       "4  Afghanistan  1994  0.292  1087.961890              NaN        NaN   \n",
       "\n",
       "  hdi_groups undp_regions happiness category  \n",
       "0        Low           SA                NaN  \n",
       "1        Low           SA                NaN  \n",
       "2        Low           SA                NaN  \n",
       "3        Low           SA                NaN  \n",
       "4        Low           SA                NaN  "
      ]
     },
     "execution_count": 19,
     "metadata": {},
     "output_type": "execute_result"
    }
   ],
   "source": [
    "df.head()"
   ]
  },
  {
   "cell_type": "code",
   "execution_count": 20,
   "id": "a3581f0d",
   "metadata": {},
   "outputs": [],
   "source": [
    "# Drop categorical columns\n",
    "\n",
    "df.drop(['country', 'hdi_groups', 'undp_regions', 'happiness category'], axis=1, inplace=True)"
   ]
  },
  {
   "cell_type": "code",
   "execution_count": 21,
   "id": "872f5475",
   "metadata": {},
   "outputs": [
    {
     "data": {
      "text/html": [
       "<div>\n",
       "<style scoped>\n",
       "    .dataframe tbody tr th:only-of-type {\n",
       "        vertical-align: middle;\n",
       "    }\n",
       "\n",
       "    .dataframe tbody tr th {\n",
       "        vertical-align: top;\n",
       "    }\n",
       "\n",
       "    .dataframe thead th {\n",
       "        text-align: right;\n",
       "    }\n",
       "</style>\n",
       "<table border=\"1\" class=\"dataframe\">\n",
       "  <thead>\n",
       "    <tr style=\"text-align: right;\">\n",
       "      <th></th>\n",
       "      <th>year</th>\n",
       "      <th>hdi</th>\n",
       "      <th>gni</th>\n",
       "      <th>co2_consumption</th>\n",
       "      <th>happiness</th>\n",
       "    </tr>\n",
       "  </thead>\n",
       "  <tbody>\n",
       "    <tr>\n",
       "      <th>0</th>\n",
       "      <td>1990</td>\n",
       "      <td>0.273</td>\n",
       "      <td>2684.550019</td>\n",
       "      <td>NaN</td>\n",
       "      <td>NaN</td>\n",
       "    </tr>\n",
       "    <tr>\n",
       "      <th>1</th>\n",
       "      <td>1991</td>\n",
       "      <td>0.279</td>\n",
       "      <td>2276.289409</td>\n",
       "      <td>NaN</td>\n",
       "      <td>NaN</td>\n",
       "    </tr>\n",
       "    <tr>\n",
       "      <th>2</th>\n",
       "      <td>1992</td>\n",
       "      <td>0.287</td>\n",
       "      <td>2059.868084</td>\n",
       "      <td>NaN</td>\n",
       "      <td>NaN</td>\n",
       "    </tr>\n",
       "    <tr>\n",
       "      <th>3</th>\n",
       "      <td>1993</td>\n",
       "      <td>0.297</td>\n",
       "      <td>1525.533426</td>\n",
       "      <td>NaN</td>\n",
       "      <td>NaN</td>\n",
       "    </tr>\n",
       "    <tr>\n",
       "      <th>4</th>\n",
       "      <td>1994</td>\n",
       "      <td>0.292</td>\n",
       "      <td>1087.961890</td>\n",
       "      <td>NaN</td>\n",
       "      <td>NaN</td>\n",
       "    </tr>\n",
       "  </tbody>\n",
       "</table>\n",
       "</div>"
      ],
      "text/plain": [
       "   year    hdi          gni  co2_consumption  happiness\n",
       "0  1990  0.273  2684.550019              NaN        NaN\n",
       "1  1991  0.279  2276.289409              NaN        NaN\n",
       "2  1992  0.287  2059.868084              NaN        NaN\n",
       "3  1993  0.297  1525.533426              NaN        NaN\n",
       "4  1994  0.292  1087.961890              NaN        NaN"
      ]
     },
     "execution_count": 21,
     "metadata": {},
     "output_type": "execute_result"
    }
   ],
   "source": [
    "df.head()"
   ]
  },
  {
   "cell_type": "code",
   "execution_count": 22,
   "id": "7b4310cb",
   "metadata": {},
   "outputs": [
    {
     "data": {
      "text/plain": [
       "year                  0\n",
       "hdi                 665\n",
       "gni                 130\n",
       "co2_consumption    2501\n",
       "happiness          5259\n",
       "dtype: int64"
      ]
     },
     "execution_count": 22,
     "metadata": {},
     "output_type": "execute_result"
    }
   ],
   "source": [
    "# Check for null values\n",
    "\n",
    "df.isnull().sum()"
   ]
  },
  {
   "cell_type": "code",
   "execution_count": 23,
   "id": "b8ee9092",
   "metadata": {},
   "outputs": [],
   "source": [
    "# Drop 'happiness' column (too many nulls) and rows containing null values in other columns\n",
    "\n",
    "df.drop('happiness', axis=1, inplace=True)\n",
    "\n",
    "df = df.dropna(subset=['hdi', 'gni', 'co2_consumption'])"
   ]
  },
  {
   "cell_type": "code",
   "execution_count": 24,
   "id": "f20dc500",
   "metadata": {},
   "outputs": [
    {
     "data": {
      "text/plain": [
       "(3458, 4)"
      ]
     },
     "execution_count": 24,
     "metadata": {},
     "output_type": "execute_result"
    }
   ],
   "source": [
    "df.shape"
   ]
  },
  {
   "cell_type": "code",
   "execution_count": 26,
   "id": "7b8e70ec",
   "metadata": {},
   "outputs": [],
   "source": [
    "df.drop(df[df.year < 2020].index, inplace=True)"
   ]
  },
  {
   "cell_type": "code",
   "execution_count": 27,
   "id": "e5583ac5",
   "metadata": {},
   "outputs": [
    {
     "data": {
      "text/plain": [
       "(115, 4)"
      ]
     },
     "execution_count": 27,
     "metadata": {},
     "output_type": "execute_result"
    }
   ],
   "source": [
    "df.shape"
   ]
  },
  {
   "cell_type": "code",
   "execution_count": 28,
   "id": "8577bd08",
   "metadata": {},
   "outputs": [
    {
     "data": {
      "text/html": [
       "<div>\n",
       "<style scoped>\n",
       "    .dataframe tbody tr th:only-of-type {\n",
       "        vertical-align: middle;\n",
       "    }\n",
       "\n",
       "    .dataframe tbody tr th {\n",
       "        vertical-align: top;\n",
       "    }\n",
       "\n",
       "    .dataframe thead th {\n",
       "        text-align: right;\n",
       "    }\n",
       "</style>\n",
       "<table border=\"1\" class=\"dataframe\">\n",
       "  <thead>\n",
       "    <tr style=\"text-align: right;\">\n",
       "      <th></th>\n",
       "      <th>year</th>\n",
       "      <th>hdi</th>\n",
       "      <th>gni</th>\n",
       "      <th>co2_consumption</th>\n",
       "    </tr>\n",
       "  </thead>\n",
       "  <tbody>\n",
       "    <tr>\n",
       "      <th>61</th>\n",
       "      <td>2020</td>\n",
       "      <td>0.794</td>\n",
       "      <td>12996.76291</td>\n",
       "      <td>2.014620</td>\n",
       "    </tr>\n",
       "    <tr>\n",
       "      <th>216</th>\n",
       "      <td>2020</td>\n",
       "      <td>0.840</td>\n",
       "      <td>19178.33184</td>\n",
       "      <td>3.534910</td>\n",
       "    </tr>\n",
       "    <tr>\n",
       "      <th>247</th>\n",
       "      <td>2020</td>\n",
       "      <td>0.757</td>\n",
       "      <td>12454.14508</td>\n",
       "      <td>2.586914</td>\n",
       "    </tr>\n",
       "    <tr>\n",
       "      <th>278</th>\n",
       "      <td>2020</td>\n",
       "      <td>0.947</td>\n",
       "      <td>47078.24446</td>\n",
       "      <td>13.811205</td>\n",
       "    </tr>\n",
       "    <tr>\n",
       "      <th>309</th>\n",
       "      <td>2020</td>\n",
       "      <td>0.913</td>\n",
       "      <td>51574.18306</td>\n",
       "      <td>9.118349</td>\n",
       "    </tr>\n",
       "  </tbody>\n",
       "</table>\n",
       "</div>"
      ],
      "text/plain": [
       "     year    hdi          gni  co2_consumption\n",
       "61   2020  0.794  12996.76291         2.014620\n",
       "216  2020  0.840  19178.33184         3.534910\n",
       "247  2020  0.757  12454.14508         2.586914\n",
       "278  2020  0.947  47078.24446        13.811205\n",
       "309  2020  0.913  51574.18306         9.118349"
      ]
     },
     "execution_count": 28,
     "metadata": {},
     "output_type": "execute_result"
    }
   ],
   "source": [
    "df.head()"
   ]
  },
  {
   "cell_type": "markdown",
   "id": "3c53034d",
   "metadata": {},
   "source": [
    "### 2. Standardizing data"
   ]
  },
  {
   "cell_type": "code",
   "execution_count": 29,
   "id": "27b7c7a7",
   "metadata": {},
   "outputs": [],
   "source": [
    "# Use Standard Scaler to standardize data in the dataframe\n",
    "\n",
    "scaler = StandardScaler()\n",
    "segmentation_std = scaler.fit_transform(df)"
   ]
  },
  {
   "cell_type": "code",
   "execution_count": 30,
   "id": "4b59649d",
   "metadata": {},
   "outputs": [
    {
     "data": {
      "text/plain": [
       "PCA()"
      ]
     },
     "execution_count": 30,
     "metadata": {},
     "output_type": "execute_result"
    }
   ],
   "source": [
    "# Fit standardized data using PCA\n",
    "\n",
    "pca = PCA()\n",
    "pca.fit(segmentation_std)"
   ]
  },
  {
   "cell_type": "code",
   "execution_count": 31,
   "id": "b2d73f11",
   "metadata": {},
   "outputs": [
    {
     "data": {
      "text/plain": [
       "array([0.8530958 , 0.10954119, 0.03736301, 0.        ])"
      ]
     },
     "execution_count": 31,
     "metadata": {},
     "output_type": "execute_result"
    }
   ],
   "source": [
    "# Show how much variance is explained by each of the four components\n",
    "\n",
    "pca.explained_variance_ratio_"
   ]
  },
  {
   "cell_type": "code",
   "execution_count": 33,
   "id": "6aa20f83",
   "metadata": {},
   "outputs": [
    {
     "data": {
      "text/plain": [
       "Text(0, 0.5, 'Cumulative Explained Variance')"
      ]
     },
     "execution_count": 33,
     "metadata": {},
     "output_type": "execute_result"
    },
    {
     "data": {
      "image/png": "[encoded data removed]",
      "text/plain": [
       "<Figure size 1000x800 with 1 Axes>"
      ]
     },
     "metadata": {},
     "output_type": "display_data"
    }
   ],
   "source": [
    "plt.figure(figsize = (10,8))\n",
    "plt.plot(range(1,5), pca.explained_variance_ratio_.cumsum(), marker = 'o', linestyle = '--')\n",
    "plt.title('Explained Variance by Components')\n",
    "plt.xlabel('Number of Components')\n",
    "plt.ylabel('Cumulative Explained Variance')"
   ]
  },
  {
   "cell_type": "markdown",
   "id": "ac4890b4",
   "metadata": {},
   "source": [
    "Choosing two components is sufficient here, as they preserve about 90 % of the variance."
   ]
  },
  {
   "cell_type": "code",
   "execution_count": 34,
   "id": "e919a672",
   "metadata": {},
   "outputs": [],
   "source": [
    "# Choice of two components based on the above findings\n",
    "\n",
    "pca = PCA(n_components = 2)"
   ]
  },
  {
   "cell_type": "code",
   "execution_count": 35,
   "id": "a56a8eb8",
   "metadata": {},
   "outputs": [
    {
     "data": {
      "text/plain": [
       "PCA(n_components=2)"
      ]
     },
     "execution_count": 35,
     "metadata": {},
     "output_type": "execute_result"
    }
   ],
   "source": [
    "# Fit model to data\n",
    "\n",
    "pca.fit(segmentation_std)"
   ]
  },
  {
   "cell_type": "code",
   "execution_count": 36,
   "id": "7bb59c3a",
   "metadata": {},
   "outputs": [
    {
     "data": {
      "text/plain": [
       "array([[-6.13851680e-01, -6.09576504e-01],\n",
       "       [-9.75010304e-02, -6.54349975e-01],\n",
       "       [-7.22984137e-01, -3.51565956e-01],\n",
       "       [ 2.16262234e+00,  7.57235217e-02],\n",
       "       [ 1.69271665e+00, -3.36680613e-01],\n",
       "       [-6.79584600e-01, -6.41177343e-02],\n",
       "       [ 1.73991112e+00,  5.50684798e-01],\n",
       "       [-1.52562826e+00, -5.60843575e-02],\n",
       "       [-1.43842878e-02, -1.82834431e-01],\n",
       "       [ 2.30911630e+00,  3.67510756e-01],\n",
       "       [-2.12413956e+00,  5.86669747e-01],\n",
       "       [-1.18944840e+00, -1.26269846e-01],\n",
       "       [-6.27067026e-01,  1.32831813e-01],\n",
       "       [-7.38209626e-01, -4.30181853e-01],\n",
       "       [ 3.07562061e+00,  1.74784339e+00],\n",
       "       [-1.33585498e-03, -2.52653532e-01],\n",
       "       [-2.50093879e+00,  9.19365447e-01],\n",
       "       [-1.64349306e+00,  4.33775573e-01],\n",
       "       [-1.92429953e+00,  2.79403089e-01],\n",
       "       [ 1.95345088e+00,  5.00199001e-02],\n",
       "       [ 1.30169672e-01, -6.04157643e-01],\n",
       "       [-1.45848726e-01,  1.65622881e-01],\n",
       "       [-7.50277079e-01, -4.02734923e-01],\n",
       "       [-3.39241545e-01, -6.99495826e-01],\n",
       "       [ 3.91872186e-01, -4.85929194e-01],\n",
       "       [ 8.17957897e-01, -6.89602255e-01],\n",
       "       [ 1.23546236e+00, -1.81863254e-01],\n",
       "       [ 1.84313842e+00, -7.34624829e-01],\n",
       "       [-5.59303975e-01, -3.53447771e-01],\n",
       "       [-9.25274354e-01, -2.53056633e-01],\n",
       "       [-8.74961333e-01, -2.77320896e-01],\n",
       "       [-1.33119085e+00, -7.42038101e-02],\n",
       "       [ 1.15511816e+00, -1.93744708e-01],\n",
       "       [-2.30626873e+00,  6.58405563e-01],\n",
       "       [ 1.64512937e+00, -5.16364951e-01],\n",
       "       [ 1.05817826e+00, -6.68658324e-01],\n",
       "       [-4.27936444e-01, -4.68999762e-01],\n",
       "       [ 1.87347568e+00, -4.79108485e-01],\n",
       "       [-1.61370653e+00,  4.81852748e-02],\n",
       "       [ 4.57104935e-01, -6.99703609e-01],\n",
       "       [-1.47312158e+00,  9.73130118e-02],\n",
       "       [-2.40532168e+00,  8.52445126e-01],\n",
       "       [-1.67248089e+00,  1.15658403e-01],\n",
       "       [ 2.20747619e+00, -3.14771580e-01],\n",
       "       [ 5.34841054e-01, -3.66911059e-01],\n",
       "       [-1.46786594e+00,  1.11637425e-01],\n",
       "       [-9.84265516e-01, -1.45067847e-01],\n",
       "       [-1.47859370e-01,  1.63165227e-01],\n",
       "       [ 2.25497282e+00, -5.29529164e-01],\n",
       "       [ 1.27410782e+00, -4.40848542e-01],\n",
       "       [ 1.00053835e+00, -5.33804164e-01],\n",
       "       [-1.05108150e+00, -1.71370031e-01],\n",
       "       [ 1.47496573e+00, -3.40090629e-01],\n",
       "       [-9.30317024e-01, -1.69282885e-01],\n",
       "       [ 5.33798239e-01,  2.51056976e-01],\n",
       "       [-1.89045087e+00,  2.96896340e-01],\n",
       "       [ 2.65912374e+00,  1.75150127e+00],\n",
       "       [-1.23012329e+00, -6.41787553e-03],\n",
       "       [ 7.51652116e-01, -3.39875715e-01],\n",
       "       [ 9.14018255e-01, -4.00185672e-01],\n",
       "       [ 2.92136287e+00,  3.90299304e-02],\n",
       "       [-2.31720572e+00,  6.45929155e-01],\n",
       "       [-2.26127259e+00,  5.62104911e-01],\n",
       "       [ 3.35469225e-01, -1.39062370e-02],\n",
       "       [ 1.96032688e+00,  6.08084938e-01],\n",
       "       [-8.96433840e-02, -3.53630833e-01],\n",
       "       [-5.04416721e-01, -2.42671418e-01],\n",
       "       [ 2.14249757e-01,  1.01727879e+00],\n",
       "       [-1.27849435e+00, -5.39171658e-02],\n",
       "       [-2.49535810e+00,  9.16491102e-01],\n",
       "       [-1.22879263e+00,  4.07834852e-01],\n",
       "       [-1.76476030e+00,  2.06937092e-01],\n",
       "       [ 1.81422254e+00, -5.18685353e-01],\n",
       "       [ 1.36196901e+00, -6.31147163e-01],\n",
       "       [-1.52266360e+00, -4.32769550e-02],\n",
       "       [-2.03896944e+00,  5.28744495e-01],\n",
       "       [ 2.16357049e+00, -6.16429843e-01],\n",
       "       [ 1.01294149e+00,  5.76477239e-01],\n",
       "       [-1.97817800e+00,  5.34154552e-01],\n",
       "       [-1.07020325e-01, -4.37280145e-01],\n",
       "       [-9.18543537e-01, -3.07626176e-01],\n",
       "       [-8.32109398e-01, -4.82928675e-01],\n",
       "       [-1.13360833e+00, -2.47902651e-01],\n",
       "       [ 7.85825715e-01, -3.49897743e-01],\n",
       "       [ 4.69035813e-01, -6.34182463e-01],\n",
       "       [ 4.03375743e+00,  2.02262173e+00],\n",
       "       [ 1.67897623e-01, -4.96638533e-01],\n",
       "       [-2.17608111e+00,  4.85763983e-01],\n",
       "       [ 2.23792366e+00,  1.01975669e+00],\n",
       "       [-2.14211091e+00,  6.77444256e-01],\n",
       "       [ 4.14840385e+00,  1.40369434e+00],\n",
       "       [ 6.09107167e-01, -3.29285604e-01],\n",
       "       [ 1.24639476e+00, -3.60549886e-01],\n",
       "       [-5.92385860e-01,  1.17327152e-01],\n",
       "       [ 1.82618310e+00,  6.74534954e-02],\n",
       "       [ 8.25439050e-01, -7.30786687e-01],\n",
       "       [-7.25173236e-01, -5.78588750e-01],\n",
       "       [ 1.51890042e+00, -8.78622493e-01],\n",
       "       [ 2.57775625e+00, -1.54610253e-01],\n",
       "       [-1.46031932e+00, -3.33160967e-02],\n",
       "       [-2.08287049e+00,  4.19957263e-01],\n",
       "       [-2.90112577e-01, -4.23687864e-01],\n",
       "       [-2.09597749e+00,  5.53905737e-01],\n",
       "       [ 1.30048978e+00,  1.15987788e+00],\n",
       "       [-9.23833005e-01, -3.12642572e-01],\n",
       "       [ 2.63172379e-01, -4.66504693e-01],\n",
       "       [-2.20559002e+00,  5.26589563e-01],\n",
       "       [-4.70118653e-01, -2.25641884e-01],\n",
       "       [ 3.08095575e+00,  9.98727687e-01],\n",
       "       [ 1.25324485e+00, -6.62063385e-01],\n",
       "       [ 2.63605879e+00,  4.14934220e-01],\n",
       "       [-1.95043731e-01, -6.30990389e-01],\n",
       "       [-1.38653499e+00, -2.79418524e-01],\n",
       "       [-1.96708681e+00,  3.21743118e-01],\n",
       "       [-1.79716014e+00,  2.13737571e-01]])"
      ]
     },
     "execution_count": 36,
     "metadata": {},
     "output_type": "execute_result"
    }
   ],
   "source": [
    "# Extract calculated resulting components for our data set\n",
    "\n",
    "pca.transform(segmentation_std)"
   ]
  },
  {
   "cell_type": "code",
   "execution_count": 37,
   "id": "6c158969",
   "metadata": {},
   "outputs": [],
   "source": [
    "scores_pca = pca.transform(segmentation_std)"
   ]
  },
  {
   "cell_type": "markdown",
   "id": "85496592",
   "metadata": {},
   "source": [
    "### 3. Examining data with elbow technique for k-means clustering"
   ]
  },
  {
   "cell_type": "code",
   "execution_count": 38,
   "id": "68a1e2ed",
   "metadata": {},
   "outputs": [],
   "source": [
    "# Define range of potential clusters and define k-means clusters\n",
    "\n",
    "num_cl = range(1, 20)\n",
    "kmeans = [KMeans(n_clusters=i) for i in num_cl]"
   ]
  },
  {
   "cell_type": "code",
   "execution_count": 39,
   "id": "e533d7ba",
   "metadata": {},
   "outputs": [],
   "source": [
    "score = [kmeans[i].fit(scores_pca).score(scores_pca) for i in range(len(kmeans))]"
   ]
  },
  {
   "cell_type": "code",
   "execution_count": 40,
   "id": "cc682818",
   "metadata": {},
   "outputs": [
    {
     "data": {
      "text/plain": [
       "[-332.1097622478033,\n",
       " -117.81431775617969,\n",
       " -71.89079097528156,\n",
       " -45.01245855623125,\n",
       " -32.79908155728692,\n",
       " -25.701207674691727,\n",
       " -21.48987233751708,\n",
       " -17.951080154433647,\n",
       " -14.756732382057395,\n",
       " -12.934669663132794,\n",
       " -11.524661897403524,\n",
       " -10.794309744751496,\n",
       " -9.595134988709045,\n",
       " -8.66820148778963,\n",
       " -8.026795955393217,\n",
       " -7.764085228355616,\n",
       " -6.890942948302111,\n",
       " -6.304214238840183,\n",
       " -6.176376426357139]"
      ]
     },
     "execution_count": 40,
     "metadata": {},
     "output_type": "execute_result"
    }
   ],
   "source": [
    "score"
   ]
  },
  {
   "cell_type": "code",
   "execution_count": 41,
   "id": "d6b2cd4f",
   "metadata": {},
   "outputs": [
    {
     "data": {
      "image/png": "[encoded data removed]",
      "text/plain": [
       "<Figure size 640x480 with 1 Axes>"
      ]
     },
     "metadata": {},
     "output_type": "display_data"
    }
   ],
   "source": [
    "# Plot elbow curve\n",
    "\n",
    "pl.plot(num_cl,score, marker = 'o')\n",
    "pl.xlabel('Number of Clusters')\n",
    "pl.ylabel('Score')\n",
    "pl.title ('Elbow Curve')\n",
    "pl.show()"
   ]
  },
  {
   "cell_type": "markdown",
   "id": "d16a0b34",
   "metadata": {},
   "source": [
    "The curve becomes smoother after four clusters, which is thus the optimal count."
   ]
  },
  {
   "cell_type": "markdown",
   "id": "bfbef94f",
   "metadata": {},
   "source": [
    "### 4. k-means clustering"
   ]
  },
  {
   "cell_type": "code",
   "execution_count": 42,
   "id": "a80ba6ca",
   "metadata": {},
   "outputs": [],
   "source": [
    "# Create k-means object\n",
    "\n",
    "kmeans = KMeans(n_clusters = 4)"
   ]
  },
  {
   "cell_type": "code",
   "execution_count": 43,
   "id": "125bcdc8",
   "metadata": {},
   "outputs": [
    {
     "data": {
      "text/plain": [
       "KMeans(n_clusters=4)"
      ]
     },
     "execution_count": 43,
     "metadata": {},
     "output_type": "execute_result"
    }
   ],
   "source": [
    "kmeans.fit(scores_pca)"
   ]
  },
  {
   "cell_type": "code",
   "execution_count": 44,
   "id": "0a703ff4",
   "metadata": {},
   "outputs": [],
   "source": [
    "df_pca_kmeans = pd.concat([df.reset_index(drop=True),pd.DataFrame(scores_pca)], axis = 1)\n",
    "df_pca_kmeans.columns.values[-2: ] = ['Component 1', 'Component 2']\n",
    "df_pca_kmeans['Segment k-means PCA'] = kmeans.labels_"
   ]
  },
  {
   "cell_type": "code",
   "execution_count": 45,
   "id": "77ed6002",
   "metadata": {},
   "outputs": [
    {
     "data": {
      "text/html": [
       "<div>\n",
       "<style scoped>\n",
       "    .dataframe tbody tr th:only-of-type {\n",
       "        vertical-align: middle;\n",
       "    }\n",
       "\n",
       "    .dataframe tbody tr th {\n",
       "        vertical-align: top;\n",
       "    }\n",
       "\n",
       "    .dataframe thead th {\n",
       "        text-align: right;\n",
       "    }\n",
       "</style>\n",
       "<table border=\"1\" class=\"dataframe\">\n",
       "  <thead>\n",
       "    <tr style=\"text-align: right;\">\n",
       "      <th></th>\n",
       "      <th>year</th>\n",
       "      <th>hdi</th>\n",
       "      <th>gni</th>\n",
       "      <th>co2_consumption</th>\n",
       "      <th>Component 1</th>\n",
       "      <th>Component 2</th>\n",
       "      <th>Segment k-means PCA</th>\n",
       "    </tr>\n",
       "  </thead>\n",
       "  <tbody>\n",
       "    <tr>\n",
       "      <th>0</th>\n",
       "      <td>2020</td>\n",
       "      <td>0.794</td>\n",
       "      <td>12996.76291</td>\n",
       "      <td>2.014620</td>\n",
       "      <td>-0.613852</td>\n",
       "      <td>-0.609577</td>\n",
       "      <td>2</td>\n",
       "    </tr>\n",
       "    <tr>\n",
       "      <th>1</th>\n",
       "      <td>2020</td>\n",
       "      <td>0.840</td>\n",
       "      <td>19178.33184</td>\n",
       "      <td>3.534910</td>\n",
       "      <td>-0.097501</td>\n",
       "      <td>-0.654350</td>\n",
       "      <td>2</td>\n",
       "    </tr>\n",
       "    <tr>\n",
       "      <th>2</th>\n",
       "      <td>2020</td>\n",
       "      <td>0.757</td>\n",
       "      <td>12454.14508</td>\n",
       "      <td>2.586914</td>\n",
       "      <td>-0.722984</td>\n",
       "      <td>-0.351566</td>\n",
       "      <td>2</td>\n",
       "    </tr>\n",
       "    <tr>\n",
       "      <th>3</th>\n",
       "      <td>2020</td>\n",
       "      <td>0.947</td>\n",
       "      <td>47078.24446</td>\n",
       "      <td>13.811205</td>\n",
       "      <td>2.162622</td>\n",
       "      <td>0.075724</td>\n",
       "      <td>1</td>\n",
       "    </tr>\n",
       "    <tr>\n",
       "      <th>4</th>\n",
       "      <td>2020</td>\n",
       "      <td>0.913</td>\n",
       "      <td>51574.18306</td>\n",
       "      <td>9.118349</td>\n",
       "      <td>1.692717</td>\n",
       "      <td>-0.336681</td>\n",
       "      <td>1</td>\n",
       "    </tr>\n",
       "  </tbody>\n",
       "</table>\n",
       "</div>"
      ],
      "text/plain": [
       "   year    hdi          gni  co2_consumption  Component 1  Component 2  \\\n",
       "0  2020  0.794  12996.76291         2.014620    -0.613852    -0.609577   \n",
       "1  2020  0.840  19178.33184         3.534910    -0.097501    -0.654350   \n",
       "2  2020  0.757  12454.14508         2.586914    -0.722984    -0.351566   \n",
       "3  2020  0.947  47078.24446        13.811205     2.162622     0.075724   \n",
       "4  2020  0.913  51574.18306         9.118349     1.692717    -0.336681   \n",
       "\n",
       "   Segment k-means PCA  \n",
       "0                    2  \n",
       "1                    2  \n",
       "2                    2  \n",
       "3                    1  \n",
       "4                    1  "
      ]
     },
     "execution_count": 45,
     "metadata": {},
     "output_type": "execute_result"
    }
   ],
   "source": [
    "df_pca_kmeans.head()"
   ]
  },
  {
   "cell_type": "code",
   "execution_count": 46,
   "id": "6285aadb",
   "metadata": {},
   "outputs": [],
   "source": [
    "# Create a new Segment column for easier cluster readabilty\n",
    "\n",
    "df_pca_kmeans['Segment'] = df_pca_kmeans['Segment k-means PCA'].map({0: 'first', \n",
    "                                                                    1: 'second', \n",
    "                                                                    2: 'third', \n",
    "                                                                    3: 'fourth'})"
   ]
  },
  {
   "cell_type": "code",
   "execution_count": 47,
   "id": "5660198c",
   "metadata": {},
   "outputs": [
    {
     "data": {
      "text/html": [
       "<div>\n",
       "<style scoped>\n",
       "    .dataframe tbody tr th:only-of-type {\n",
       "        vertical-align: middle;\n",
       "    }\n",
       "\n",
       "    .dataframe tbody tr th {\n",
       "        vertical-align: top;\n",
       "    }\n",
       "\n",
       "    .dataframe thead th {\n",
       "        text-align: right;\n",
       "    }\n",
       "</style>\n",
       "<table border=\"1\" class=\"dataframe\">\n",
       "  <thead>\n",
       "    <tr style=\"text-align: right;\">\n",
       "      <th></th>\n",
       "      <th>year</th>\n",
       "      <th>hdi</th>\n",
       "      <th>gni</th>\n",
       "      <th>co2_consumption</th>\n",
       "      <th>Component 1</th>\n",
       "      <th>Component 2</th>\n",
       "      <th>Segment k-means PCA</th>\n",
       "      <th>Segment</th>\n",
       "    </tr>\n",
       "  </thead>\n",
       "  <tbody>\n",
       "    <tr>\n",
       "      <th>0</th>\n",
       "      <td>2020</td>\n",
       "      <td>0.794</td>\n",
       "      <td>12996.76291</td>\n",
       "      <td>2.014620</td>\n",
       "      <td>-0.613852</td>\n",
       "      <td>-0.609577</td>\n",
       "      <td>2</td>\n",
       "      <td>third</td>\n",
       "    </tr>\n",
       "    <tr>\n",
       "      <th>1</th>\n",
       "      <td>2020</td>\n",
       "      <td>0.840</td>\n",
       "      <td>19178.33184</td>\n",
       "      <td>3.534910</td>\n",
       "      <td>-0.097501</td>\n",
       "      <td>-0.654350</td>\n",
       "      <td>2</td>\n",
       "      <td>third</td>\n",
       "    </tr>\n",
       "    <tr>\n",
       "      <th>2</th>\n",
       "      <td>2020</td>\n",
       "      <td>0.757</td>\n",
       "      <td>12454.14508</td>\n",
       "      <td>2.586914</td>\n",
       "      <td>-0.722984</td>\n",
       "      <td>-0.351566</td>\n",
       "      <td>2</td>\n",
       "      <td>third</td>\n",
       "    </tr>\n",
       "    <tr>\n",
       "      <th>3</th>\n",
       "      <td>2020</td>\n",
       "      <td>0.947</td>\n",
       "      <td>47078.24446</td>\n",
       "      <td>13.811205</td>\n",
       "      <td>2.162622</td>\n",
       "      <td>0.075724</td>\n",
       "      <td>1</td>\n",
       "      <td>second</td>\n",
       "    </tr>\n",
       "    <tr>\n",
       "      <th>4</th>\n",
       "      <td>2020</td>\n",
       "      <td>0.913</td>\n",
       "      <td>51574.18306</td>\n",
       "      <td>9.118349</td>\n",
       "      <td>1.692717</td>\n",
       "      <td>-0.336681</td>\n",
       "      <td>1</td>\n",
       "      <td>second</td>\n",
       "    </tr>\n",
       "  </tbody>\n",
       "</table>\n",
       "</div>"
      ],
      "text/plain": [
       "   year    hdi          gni  co2_consumption  Component 1  Component 2  \\\n",
       "0  2020  0.794  12996.76291         2.014620    -0.613852    -0.609577   \n",
       "1  2020  0.840  19178.33184         3.534910    -0.097501    -0.654350   \n",
       "2  2020  0.757  12454.14508         2.586914    -0.722984    -0.351566   \n",
       "3  2020  0.947  47078.24446        13.811205     2.162622     0.075724   \n",
       "4  2020  0.913  51574.18306         9.118349     1.692717    -0.336681   \n",
       "\n",
       "   Segment k-means PCA Segment  \n",
       "0                    2   third  \n",
       "1                    2   third  \n",
       "2                    2   third  \n",
       "3                    1  second  \n",
       "4                    1  second  "
      ]
     },
     "execution_count": 47,
     "metadata": {},
     "output_type": "execute_result"
    }
   ],
   "source": [
    "df_pca_kmeans.head()"
   ]
  },
  {
   "cell_type": "code",
   "execution_count": 48,
   "id": "6d126315",
   "metadata": {},
   "outputs": [
    {
     "data": {
      "text/plain": [
       "third     41\n",
       "second    33\n",
       "first     33\n",
       "fourth     8\n",
       "Name: Segment, dtype: int64"
      ]
     },
     "execution_count": 48,
     "metadata": {},
     "output_type": "execute_result"
    }
   ],
   "source": [
    "df_pca_kmeans['Segment'].value_counts()"
   ]
  },
  {
   "cell_type": "code",
   "execution_count": 49,
   "id": "e3fa3b34",
   "metadata": {},
   "outputs": [
    {
     "data": {
      "image/png": "[encoded data removed]",
      "text/plain": [
       "<Figure size 1200x800 with 1 Axes>"
      ]
     },
     "metadata": {},
     "output_type": "display_data"
    }
   ],
   "source": [
    "# Plot clusters for the 'GNI' and 'CO2 consumption' variables\n",
    "\n",
    "plt.figure(figsize=(12,8))\n",
    "ax = sns.scatterplot(x=df_pca_kmeans['gni'], y=df_pca_kmeans['co2_consumption'], hue=df_pca_kmeans['Segment'], s=100)\n",
    "ax.grid(False)\n",
    "plt.xlabel('GNI')\n",
    "plt.ylabel('CO2 consumption per capita')\n",
    "plt.show()"
   ]
  },
  {
   "cell_type": "code",
   "execution_count": 50,
   "id": "02ac92f1",
   "metadata": {},
   "outputs": [
    {
     "data": {
      "image/png": "[encoded data removed]",
      "text/plain": [
       "<Figure size 1200x800 with 1 Axes>"
      ]
     },
     "metadata": {},
     "output_type": "display_data"
    }
   ],
   "source": [
    "# Plot clusters for the 'HDI' and 'CO2 consumption' variables\n",
    "\n",
    "plt.figure(figsize=(12,8))\n",
    "ax = sns.scatterplot(x=df_pca_kmeans['hdi'], y=df_pca_kmeans['co2_consumption'], hue=df_pca_kmeans['Segment'], s=100)\n",
    "ax.grid(False)\n",
    "plt.xlabel('HDI')\n",
    "plt.ylabel('CO2 consumption per capita')\n",
    "plt.show()"
   ]
  },
  {
   "cell_type": "code",
   "execution_count": 51,
   "id": "1e4fc0db",
   "metadata": {},
   "outputs": [
    {
     "data": {
      "image/png": "[encoded data removed]",
      "text/plain": [
       "<Figure size 1200x800 with 1 Axes>"
      ]
     },
     "metadata": {},
     "output_type": "display_data"
    }
   ],
   "source": [
    "# Plot clusters for the 'GNI' and 'HDI' variables\n",
    "\n",
    "plt.figure(figsize=(12,8))\n",
    "ax = sns.scatterplot(x=df_pca_kmeans['gni'], y=df_pca_kmeans['hdi'], hue=df_pca_kmeans['Segment'], s=100)\n",
    "ax.grid(False)\n",
    "plt.xlabel('GNI')\n",
    "plt.ylabel('HDI')\n",
    "plt.show()"
   ]
  },
  {
   "cell_type": "code",
   "execution_count": 58,
   "id": "01348d3f",
   "metadata": {},
   "outputs": [
    {
     "data": {
      "application/vnd.plotly.v1+json": {
       "config": {
        "plotlyServerURL": "https://plot.ly"
       },
       "data": [
        {
         "hovertemplate": "Segment=third<br>hdi=%{x}<br>gni=%{y}<br>co2_consumption=%{z}<extra></extra>",
         "legendgroup": "third",
         "marker": {
          "color": "#636efa",
          "size": 3,
          "symbol": "circle"
         },
         "mode": "markers",
         "name": "third",
         "scene": "scene",
         "showlegend": true,
         "type": "scatter3d",
         "x": [
          0.794,
          0.84,
          0.757,
          0.73,
          0.807,
          0.713,
          0.758,
          0.802,
          0.852,
          0.764,
          0.756,
          0.816,
          0.855,
          0.764,
          0.731,
          0.734,
          0.802,
          0.886,
          0.849,
          0.709,
          0.777,
          0.713,
          0.723,
          0.814,
          0.806,
          0.804,
          0.756,
          0.745,
          0.801,
          0.73,
          0.762,
          0.71,
          0.863,
          0.824,
          0.727,
          0.78,
          0.802,
          0.737,
          0.833,
          0.775,
          0.821
         ],
         "y": [
          12996.76291,
          19178.33184,
          12454.14508,
          13567.9371,
          18307.70473,
          14696.02701,
          13790.71143,
          22020.49393,
          22285.86026,
          16201.35297,
          13184.95894,
          18753.91088,
          27185.25054,
          16164.89952,
          10031.66906,
          11581.07981,
          13329.53028,
          26680.88796,
          30487.04684,
          11141.56832,
          12624.41241,
          8474.815687,
          9788.721555,
          23325.00389,
          25940.44402,
          21194.67865,
          17234.78062,
          10626.79022,
          23694.26665,
          12015.54396,
          10916.70628,
          8558.594619,
          31636.80056,
          28358.50064,
          12449.67104,
          12208.46787,
          16803.76572,
          10046.07161,
          28317.43532,
          12718.46051,
          20441.92913
         ],
         "z": [
          2.0146203,
          3.5349097,
          2.5869143,
          3.8055859,
          5.987711,
          4.702185,
          1.9972205,
          5.229415,
          4.432308,
          7.041331,
          2.1357567,
          2.1954772,
          5.514952,
          2.8630905,
          2.3188374,
          2.2483034,
          3.47187,
          5.0529766,
          6.235273,
          2.2961504,
          7.543183,
          2.2420366,
          2.6676261,
          9.773992,
          7.3209763,
          4.496356,
          3.4316645,
          13.114191,
          3.7057593,
          1.842629,
          1.729861,
          1.5042487,
          4.6549435,
          4.171222,
          5.142118,
          1.6936935,
          3.8430374,
          2.08305,
          4.7794228,
          4.332448,
          2.9532053
         ]
        },
        {
         "hovertemplate": "Segment=second<br>hdi=%{x}<br>gni=%{y}<br>co2_consumption=%{z}<extra></extra>",
         "legendgroup": "second",
         "marker": {
          "color": "#EF553B",
          "size": 3,
          "symbol": "circle"
         },
         "mode": "markers",
         "name": "second",
         "scene": "scene",
         "showlegend": true,
         "type": "scatter3d",
         "x": [
          0.947,
          0.913,
          0.877,
          0.928,
          0.931,
          0.894,
          0.892,
          0.947,
          0.892,
          0.938,
          0.898,
          0.944,
          0.949,
          0.943,
          0.917,
          0.889,
          0.923,
          0.871,
          0.879,
          0.911,
          0.939,
          0.936,
          0.959,
          0.827,
          0.876,
          0.857,
          0.913,
          0.922,
          0.899,
          0.942,
          0.956,
          0.818,
          0.924
         ],
         "y": [
          47078.24446,
          51574.18306,
          39030.38571,
          49391.99684,
          45038.07302,
          36519.29668,
          37551.07049,
          58143.77306,
          35131.82128,
          47946.32854,
          43047.83087,
          53077.54364,
          58643.85895,
          67735.8762,
          39015.07545,
          39900.63273,
          41487.05103,
          31101.79957,
          36076.54329,
          35645.06549,
          53503.64286,
          41946.38822,
          62572.93547,
          27277.06476,
          31164.47794,
          29801.09302,
          36992.83331,
          42698.12802,
          36515.96007,
          52359.21296,
          65011.21711,
          23748.77675,
          42374.7622
         ],
         "z": [
          13.811205,
          9.118349,
          14.774931,
          15.39211,
          12.95036,
          5.4775977,
          9.485199,
          7.308942,
          9.385079,
          8.681176,
          5.82082,
          9.2343855,
          10.7706785,
          8.815055,
          8.41914,
          6.5347557,
          9.478567,
          7.3480096,
          7.1968555,
          16.612299,
          8.71343,
          7.6648684,
          8.756165,
          12.928992,
          7.4706326,
          6.861946,
          8.899202,
          12.720634,
          5.3492618,
          5.935962,
          12.356116,
          17.252722,
          6.929181
         ]
        },
        {
         "hovertemplate": "Segment=first<br>hdi=%{x}<br>gni=%{y}<br>co2_consumption=%{z}<extra></extra>",
         "legendgroup": "first",
         "marker": {
          "color": "#00cc96",
          "size": 3,
          "symbol": "circle"
         },
         "mode": "markers",
         "name": "first",
         "scene": "scene",
         "showlegend": true,
         "type": "scatter3d",
         "x": [
          0.655,
          0.524,
          0.694,
          0.449,
          0.596,
          0.578,
          0.672,
          0.498,
          0.632,
          0.635,
          0.466,
          0.621,
          0.642,
          0.578,
          0.689,
          0.501,
          0.516,
          0.679,
          0.453,
          0.633,
          0.604,
          0.654,
          0.535,
          0.543,
          0.532,
          0.513,
          0.664,
          0.548,
          0.535,
          0.524,
          0.695,
          0.57,
          0.6
         ],
         "y": [
          5108.160545,
          3288.470605,
          7756.177294,
          2038.513202,
          4032.751435,
          3586.252712,
          7558.531908,
          2279.637186,
          5601.428197,
          8241.444361,
          2440.015962,
          4792.024122,
          6107.493949,
          4266.967466,
          4494.5007,
          1419.679656,
          1475.38654,
          6881.631266,
          1206.852988,
          8710.512156,
          3844.117012,
          5137.138341,
          4739.674805,
          4467.236365,
          2051.532402,
          3239.619854,
          4244.329789,
          2615.736839,
          2112.526748,
          2138.005821,
          4908.065,
          3178.619722,
          3654.289051
         ],
         "z": [
          0.80691266,
          0.6540324,
          1.831657,
          0.2820324,
          2.3504715,
          0.3756095,
          1.3564066,
          0.17306569,
          0.712511,
          1.2347543,
          0.43491587,
          0.80713457,
          1.6305512,
          0.5176797,
          2.587165,
          0.19295217,
          0.12785864,
          1.802895,
          0.41989702,
          3.6538463,
          0.8493074,
          0.8694219,
          0.63745195,
          1.0055786,
          0.16460055,
          0.93762565,
          1.3543011,
          0.2861137,
          0.8351158,
          0.16829544,
          0.6342709,
          0.39057925,
          0.741153
         ]
        },
        {
         "hovertemplate": "Segment=fourth<br>hdi=%{x}<br>gni=%{y}<br>co2_consumption=%{z}<extra></extra>",
         "legendgroup": "fourth",
         "marker": {
          "color": "#ab63fa",
          "size": 3,
          "symbol": "circle"
         },
         "mode": "markers",
         "name": "fourth",
         "scene": "scene",
         "showlegend": true,
         "type": "scatter3d",
         "x": [
          0.83,
          0.822,
          0.924,
          0.854,
          0.87,
          0.939,
          0.912,
          0.92
         ],
         "y": [
          65077.71446,
          52967.77768,
          80285.84238,
          83720.69503,
          45232.21124,
          81035.0282,
          63016.40122,
          61461.64197
         ],
         "z": [
          22.54965,
          22.231573,
          12.642754,
          25.771225,
          18.277689,
          24.238314,
          19.84806,
          15.471115
         ]
        }
       ],
       "layout": {
        "legend": {
         "title": {
          "text": "Segment"
         },
         "tracegroupgap": 0
        },
        "margin": {
         "t": 60
        },
        "scene": {
         "domain": {
          "x": [
           0,
           1
          ],
          "y": [
           0,
           1
          ]
         },
         "xaxis": {
          "title": {
           "text": "hdi"
          }
         },
         "yaxis": {
          "title": {
           "text": "gni"
          }
         },
         "zaxis": {
          "title": {
           "text": "co2_consumption"
          }
         }
        },
        "template": {
         "data": {
          "bar": [
           {
            "error_x": {
             "color": "#2a3f5f"
            },
            "error_y": {
             "color": "#2a3f5f"
            },
            "marker": {
             "line": {
              "color": "#E5ECF6",
              "width": 0.5
             },
             "pattern": {
              "fillmode": "overlay",
              "size": 10,
              "solidity": 0.2
             }
            },
            "type": "bar"
           }
          ],
          "barpolar": [
           {
            "marker": {
             "line": {
              "color": "#E5ECF6",
              "width": 0.5
             },
             "pattern": {
              "fillmode": "overlay",
              "size": 10,
              "solidity": 0.2
             }
            },
            "type": "barpolar"
           }
          ],
          "carpet": [
           {
            "aaxis": {
             "endlinecolor": "#2a3f5f",
             "gridcolor": "white",
             "linecolor": "white",
             "minorgridcolor": "white",
             "startlinecolor": "#2a3f5f"
            },
            "baxis": {
             "endlinecolor": "#2a3f5f",
             "gridcolor": "white",
             "linecolor": "white",
             "minorgridcolor": "white",
             "startlinecolor": "#2a3f5f"
            },
            "type": "carpet"
           }
          ],
          "choropleth": [
           {
            "colorbar": {
             "outlinewidth": 0,
             "ticks": ""
            },
            "type": "choropleth"
           }
          ],
          "contour": [
           {
            "colorbar": {
             "outlinewidth": 0,
             "ticks": ""
            },
            "colorscale": [
             [
              0,
              "#0d0887"
             ],
             [
              0.1111111111111111,
              "#46039f"
             ],
             [
              0.2222222222222222,
              "#7201a8"
             ],
             [
              0.3333333333333333,
              "#9c179e"
             ],
             [
              0.4444444444444444,
              "#bd3786"
             ],
             [
              0.5555555555555556,
              "#d8576b"
             ],
             [
              0.6666666666666666,
              "#ed7953"
             ],
             [
              0.7777777777777778,
              "#fb9f3a"
             ],
             [
              0.8888888888888888,
              "#fdca26"
             ],
             [
              1,
              "#f0f921"
             ]
            ],
            "type": "contour"
           }
          ],
          "contourcarpet": [
           {
            "colorbar": {
             "outlinewidth": 0,
             "ticks": ""
            },
            "type": "contourcarpet"
           }
          ],
          "heatmap": [
           {
            "colorbar": {
             "outlinewidth": 0,
             "ticks": ""
            },
            "colorscale": [
             [
              0,
              "#0d0887"
             ],
             [
              0.1111111111111111,
              "#46039f"
             ],
             [
              0.2222222222222222,
              "#7201a8"
             ],
             [
              0.3333333333333333,
              "#9c179e"
             ],
             [
              0.4444444444444444,
              "#bd3786"
             ],
             [
              0.5555555555555556,
              "#d8576b"
             ],
             [
              0.6666666666666666,
              "#ed7953"
             ],
             [
              0.7777777777777778,
              "#fb9f3a"
             ],
             [
              0.8888888888888888,
              "#fdca26"
             ],
             [
              1,
              "#f0f921"
             ]
            ],
            "type": "heatmap"
           }
          ],
          "heatmapgl": [
           {
            "colorbar": {
             "outlinewidth": 0,
             "ticks": ""
            },
            "colorscale": [
             [
              0,
              "#0d0887"
             ],
             [
              0.1111111111111111,
              "#46039f"
             ],
             [
              0.2222222222222222,
              "#7201a8"
             ],
             [
              0.3333333333333333,
              "#9c179e"
             ],
             [
              0.4444444444444444,
              "#bd3786"
             ],
             [
              0.5555555555555556,
              "#d8576b"
             ],
             [
              0.6666666666666666,
              "#ed7953"
             ],
             [
              0.7777777777777778,
              "#fb9f3a"
             ],
             [
              0.8888888888888888,
              "#fdca26"
             ],
             [
              1,
              "#f0f921"
             ]
            ],
            "type": "heatmapgl"
           }
          ],
          "histogram": [
           {
            "marker": {
             "pattern": {
              "fillmode": "overlay",
              "size": 10,
              "solidity": 0.2
             }
            },
            "type": "histogram"
           }
          ],
          "histogram2d": [
           {
            "colorbar": {
             "outlinewidth": 0,
             "ticks": ""
            },
            "colorscale": [
             [
              0,
              "#0d0887"
             ],
             [
              0.1111111111111111,
              "#46039f"
             ],
             [
              0.2222222222222222,
              "#7201a8"
             ],
             [
              0.3333333333333333,
              "#9c179e"
             ],
             [
              0.4444444444444444,
              "#bd3786"
             ],
             [
              0.5555555555555556,
              "#d8576b"
             ],
             [
              0.6666666666666666,
              "#ed7953"
             ],
             [
              0.7777777777777778,
              "#fb9f3a"
             ],
             [
              0.8888888888888888,
              "#fdca26"
             ],
             [
              1,
              "#f0f921"
             ]
            ],
            "type": "histogram2d"
           }
          ],
          "histogram2dcontour": [
           {
            "colorbar": {
             "outlinewidth": 0,
             "ticks": ""
            },
            "colorscale": [
             [
              0,
              "#0d0887"
             ],
             [
              0.1111111111111111,
              "#46039f"
             ],
             [
              0.2222222222222222,
              "#7201a8"
             ],
             [
              0.3333333333333333,
              "#9c179e"
             ],
             [
              0.4444444444444444,
              "#bd3786"
             ],
             [
              0.5555555555555556,
              "#d8576b"
             ],
             [
              0.6666666666666666,
              "#ed7953"
             ],
             [
              0.7777777777777778,
              "#fb9f3a"
             ],
             [
              0.8888888888888888,
              "#fdca26"
             ],
             [
              1,
              "#f0f921"
             ]
            ],
            "type": "histogram2dcontour"
           }
          ],
          "mesh3d": [
           {
            "colorbar": {
             "outlinewidth": 0,
             "ticks": ""
            },
            "type": "mesh3d"
           }
          ],
          "parcoords": [
           {
            "line": {
             "colorbar": {
              "outlinewidth": 0,
              "ticks": ""
             }
            },
            "type": "parcoords"
           }
          ],
          "pie": [
           {
            "automargin": true,
            "type": "pie"
           }
          ],
          "scatter": [
           {
            "fillpattern": {
             "fillmode": "overlay",
             "size": 10,
             "solidity": 0.2
            },
            "type": "scatter"
           }
          ],
          "scatter3d": [
           {
            "line": {
             "colorbar": {
              "outlinewidth": 0,
              "ticks": ""
             }
            },
            "marker": {
             "colorbar": {
              "outlinewidth": 0,
              "ticks": ""
             }
            },
            "type": "scatter3d"
           }
          ],
          "scattercarpet": [
           {
            "marker": {
             "colorbar": {
              "outlinewidth": 0,
              "ticks": ""
             }
            },
            "type": "scattercarpet"
           }
          ],
          "scattergeo": [
           {
            "marker": {
             "colorbar": {
              "outlinewidth": 0,
              "ticks": ""
             }
            },
            "type": "scattergeo"
           }
          ],
          "scattergl": [
           {
            "marker": {
             "colorbar": {
              "outlinewidth": 0,
              "ticks": ""
             }
            },
            "type": "scattergl"
           }
          ],
          "scattermapbox": [
           {
            "marker": {
             "colorbar": {
              "outlinewidth": 0,
              "ticks": ""
             }
            },
            "type": "scattermapbox"
           }
          ],
          "scatterpolar": [
           {
            "marker": {
             "colorbar": {
              "outlinewidth": 0,
              "ticks": ""
             }
            },
            "type": "scatterpolar"
           }
          ],
          "scatterpolargl": [
           {
            "marker": {
             "colorbar": {
              "outlinewidth": 0,
              "ticks": ""
             }
            },
            "type": "scatterpolargl"
           }
          ],
          "scatterternary": [
           {
            "marker": {
             "colorbar": {
              "outlinewidth": 0,
              "ticks": ""
             }
            },
            "type": "scatterternary"
           }
          ],
          "surface": [
           {
            "colorbar": {
             "outlinewidth": 0,
             "ticks": ""
            },
            "colorscale": [
             [
              0,
              "#0d0887"
             ],
             [
              0.1111111111111111,
              "#46039f"
             ],
             [
              0.2222222222222222,
              "#7201a8"
             ],
             [
              0.3333333333333333,
              "#9c179e"
             ],
             [
              0.4444444444444444,
              "#bd3786"
             ],
             [
              0.5555555555555556,
              "#d8576b"
             ],
             [
              0.6666666666666666,
              "#ed7953"
             ],
             [
              0.7777777777777778,
              "#fb9f3a"
             ],
             [
              0.8888888888888888,
              "#fdca26"
             ],
             [
              1,
              "#f0f921"
             ]
            ],
            "type": "surface"
           }
          ],
          "table": [
           {
            "cells": {
             "fill": {
              "color": "#EBF0F8"
             },
             "line": {
              "color": "white"
             }
            },
            "header": {
             "fill": {
              "color": "#C8D4E3"
             },
             "line": {
              "color": "white"
             }
            },
            "type": "table"
           }
          ]
         },
         "layout": {
          "annotationdefaults": {
           "arrowcolor": "#2a3f5f",
           "arrowhead": 0,
           "arrowwidth": 1
          },
          "autotypenumbers": "strict",
          "coloraxis": {
           "colorbar": {
            "outlinewidth": 0,
            "ticks": ""
           }
          },
          "colorscale": {
           "diverging": [
            [
             0,
             "#8e0152"
            ],
            [
             0.1,
             "#c51b7d"
            ],
            [
             0.2,
             "#de77ae"
            ],
            [
             0.3,
             "#f1b6da"
            ],
            [
             0.4,
             "#fde0ef"
            ],
            [
             0.5,
             "#f7f7f7"
            ],
            [
             0.6,
             "#e6f5d0"
            ],
            [
             0.7,
             "#b8e186"
            ],
            [
             0.8,
             "#7fbc41"
            ],
            [
             0.9,
             "#4d9221"
            ],
            [
             1,
             "#276419"
            ]
           ],
           "sequential": [
            [
             0,
             "#0d0887"
            ],
            [
             0.1111111111111111,
             "#46039f"
            ],
            [
             0.2222222222222222,
             "#7201a8"
            ],
            [
             0.3333333333333333,
             "#9c179e"
            ],
            [
             0.4444444444444444,
             "#bd3786"
            ],
            [
             0.5555555555555556,
             "#d8576b"
            ],
            [
             0.6666666666666666,
             "#ed7953"
            ],
            [
             0.7777777777777778,
             "#fb9f3a"
            ],
            [
             0.8888888888888888,
             "#fdca26"
            ],
            [
             1,
             "#f0f921"
            ]
           ],
           "sequentialminus": [
            [
             0,
             "#0d0887"
            ],
            [
             0.1111111111111111,
             "#46039f"
            ],
            [
             0.2222222222222222,
             "#7201a8"
            ],
            [
             0.3333333333333333,
             "#9c179e"
            ],
            [
             0.4444444444444444,
             "#bd3786"
            ],
            [
             0.5555555555555556,
             "#d8576b"
            ],
            [
             0.6666666666666666,
             "#ed7953"
            ],
            [
             0.7777777777777778,
             "#fb9f3a"
            ],
            [
             0.8888888888888888,
             "#fdca26"
            ],
            [
             1,
             "#f0f921"
            ]
           ]
          },
          "colorway": [
           "#636efa",
           "#EF553B",
           "#00cc96",
           "#ab63fa",
           "#FFA15A",
           "#19d3f3",
           "#FF6692",
           "#B6E880",
           "#FF97FF",
           "#FECB52"
          ],
          "font": {
           "color": "#2a3f5f"
          },
          "geo": {
           "bgcolor": "white",
           "lakecolor": "white",
           "landcolor": "#E5ECF6",
           "showlakes": true,
           "showland": true,
           "subunitcolor": "white"
          },
          "hoverlabel": {
           "align": "left"
          },
          "hovermode": "closest",
          "mapbox": {
           "style": "light"
          },
          "paper_bgcolor": "white",
          "plot_bgcolor": "#E5ECF6",
          "polar": {
           "angularaxis": {
            "gridcolor": "white",
            "linecolor": "white",
            "ticks": ""
           },
           "bgcolor": "#E5ECF6",
           "radialaxis": {
            "gridcolor": "white",
            "linecolor": "white",
            "ticks": ""
           }
          },
          "scene": {
           "xaxis": {
            "backgroundcolor": "#E5ECF6",
            "gridcolor": "white",
            "gridwidth": 2,
            "linecolor": "white",
            "showbackground": true,
            "ticks": "",
            "zerolinecolor": "white"
           },
           "yaxis": {
            "backgroundcolor": "#E5ECF6",
            "gridcolor": "white",
            "gridwidth": 2,
            "linecolor": "white",
            "showbackground": true,
            "ticks": "",
            "zerolinecolor": "white"
           },
           "zaxis": {
            "backgroundcolor": "#E5ECF6",
            "gridcolor": "white",
            "gridwidth": 2,
            "linecolor": "white",
            "showbackground": true,
            "ticks": "",
            "zerolinecolor": "white"
           }
          },
          "shapedefaults": {
           "line": {
            "color": "#2a3f5f"
           }
          },
          "ternary": {
           "aaxis": {
            "gridcolor": "white",
            "linecolor": "white",
            "ticks": ""
           },
           "baxis": {
            "gridcolor": "white",
            "linecolor": "white",
            "ticks": ""
           },
           "bgcolor": "#E5ECF6",
           "caxis": {
            "gridcolor": "white",
            "linecolor": "white",
            "ticks": ""
           }
          },
          "title": {
           "x": 0.05
          },
          "xaxis": {
           "automargin": true,
           "gridcolor": "white",
           "linecolor": "white",
           "ticks": "",
           "title": {
            "standoff": 15
           },
           "zerolinecolor": "white",
           "zerolinewidth": 2
          },
          "yaxis": {
           "automargin": true,
           "gridcolor": "white",
           "linecolor": "white",
           "ticks": "",
           "title": {
            "standoff": 15
           },
           "zerolinecolor": "white",
           "zerolinewidth": 2
          }
         }
        }
       }
      },
      "text/html": [
       "<div>                            <div id=\"0783895b-4b99-4e80-8967-aca4e0633ffb\" class=\"plotly-graph-div\" style=\"height:525px; width:100%;\"></div>            <script type=\"text/javascript\">                require([\"plotly\"], function(Plotly) {                    window.PLOTLYENV=window.PLOTLYENV || {};                                    if (document.getElementById(\"0783895b-4b99-4e80-8967-aca4e0633ffb\")) {                    Plotly.newPlot(                        \"0783895b-4b99-4e80-8967-aca4e0633ffb\",                        [{\"hovertemplate\":\"Segment=third<br>hdi=%{x}<br>gni=%{y}<br>co2_consumption=%{z}<extra></extra>\",\"legendgroup\":\"third\",\"marker\":{\"color\":\"#636efa\",\"symbol\":\"circle\",\"size\":3},\"mode\":\"markers\",\"name\":\"third\",\"scene\":\"scene\",\"showlegend\":true,\"x\":[0.794,0.84,0.757,0.73,0.807,0.713,0.758,0.802,0.852,0.764,0.756,0.816,0.855,0.764,0.731,0.734,0.802,0.886,0.849,0.709,0.777,0.713,0.723,0.814,0.806,0.804,0.756,0.745,0.801,0.73,0.762,0.71,0.863,0.824,0.727,0.78,0.802,0.737,0.833,0.775,0.821],\"y\":[12996.76291,19178.33184,12454.14508,13567.9371,18307.70473,14696.02701,13790.71143,22020.49393,22285.86026,16201.35297,13184.95894,18753.91088,27185.25054,16164.89952,10031.66906,11581.07981,13329.53028,26680.88796,30487.04684,11141.56832,12624.41241,8474.815687,9788.721555,23325.00389,25940.44402,21194.67865,17234.78062,10626.79022,23694.26665,12015.54396,10916.70628,8558.594619,31636.80056,28358.50064,12449.67104,12208.46787,16803.76572,10046.07161,28317.43532,12718.46051,20441.92913],\"z\":[2.0146203,3.5349097,2.5869143,3.8055859,5.987711,4.702185,1.9972205,5.229415,4.432308,7.041331,2.1357567,2.1954772,5.514952,2.8630905,2.3188374,2.2483034,3.47187,5.0529766,6.235273,2.2961504,7.543183,2.2420366,2.6676261,9.773992,7.3209763,4.496356,3.4316645,13.114191,3.7057593,1.842629,1.729861,1.5042487,4.6549435,4.171222,5.142118,1.6936935,3.8430374,2.08305,4.7794228,4.332448,2.9532053],\"type\":\"scatter3d\"},{\"hovertemplate\":\"Segment=second<br>hdi=%{x}<br>gni=%{y}<br>co2_consumption=%{z}<extra></extra>\",\"legendgroup\":\"second\",\"marker\":{\"color\":\"#EF553B\",\"symbol\":\"circle\",\"size\":3},\"mode\":\"markers\",\"name\":\"second\",\"scene\":\"scene\",\"showlegend\":true,\"x\":[0.947,0.913,0.877,0.928,0.931,0.894,0.892,0.947,0.892,0.938,0.898,0.944,0.949,0.943,0.917,0.889,0.923,0.871,0.879,0.911,0.939,0.936,0.959,0.827,0.876,0.857,0.913,0.922,0.899,0.942,0.956,0.818,0.924],\"y\":[47078.24446,51574.18306,39030.38571,49391.99684,45038.07302,36519.29668,37551.07049,58143.77306,35131.82128,47946.32854,43047.83087,53077.54364,58643.85895,67735.8762,39015.07545,39900.63273,41487.05103,31101.79957,36076.54329,35645.06549,53503.64286,41946.38822,62572.93547,27277.06476,31164.47794,29801.09302,36992.83331,42698.12802,36515.96007,52359.21296,65011.21711,23748.77675,42374.7622],\"z\":[13.811205,9.118349,14.774931,15.39211,12.95036,5.4775977,9.485199,7.308942,9.385079,8.681176,5.82082,9.2343855,10.7706785,8.815055,8.41914,6.5347557,9.478567,7.3480096,7.1968555,16.612299,8.71343,7.6648684,8.756165,12.928992,7.4706326,6.861946,8.899202,12.720634,5.3492618,5.935962,12.356116,17.252722,6.929181],\"type\":\"scatter3d\"},{\"hovertemplate\":\"Segment=first<br>hdi=%{x}<br>gni=%{y}<br>co2_consumption=%{z}<extra></extra>\",\"legendgroup\":\"first\",\"marker\":{\"color\":\"#00cc96\",\"symbol\":\"circle\",\"size\":3},\"mode\":\"markers\",\"name\":\"first\",\"scene\":\"scene\",\"showlegend\":true,\"x\":[0.655,0.524,0.694,0.449,0.596,0.578,0.672,0.498,0.632,0.635,0.466,0.621,0.642,0.578,0.689,0.501,0.516,0.679,0.453,0.633,0.604,0.654,0.535,0.543,0.532,0.513,0.664,0.548,0.535,0.524,0.695,0.57,0.6],\"y\":[5108.160545,3288.470605,7756.177294,2038.513202,4032.751435,3586.252712,7558.531908,2279.637186,5601.428197,8241.444361,2440.015962,4792.024122,6107.493949,4266.967466,4494.5007,1419.679656,1475.38654,6881.631266,1206.852988,8710.512156,3844.117012,5137.138341,4739.674805,4467.236365,2051.532402,3239.619854,4244.329789,2615.736839,2112.526748,2138.005821,4908.065,3178.619722,3654.289051],\"z\":[0.80691266,0.6540324,1.831657,0.2820324,2.3504715,0.3756095,1.3564066,0.17306569,0.712511,1.2347543,0.43491587,0.80713457,1.6305512,0.5176797,2.587165,0.19295217,0.12785864,1.802895,0.41989702,3.6538463,0.8493074,0.8694219,0.63745195,1.0055786,0.16460055,0.93762565,1.3543011,0.2861137,0.8351158,0.16829544,0.6342709,0.39057925,0.741153],\"type\":\"scatter3d\"},{\"hovertemplate\":\"Segment=fourth<br>hdi=%{x}<br>gni=%{y}<br>co2_consumption=%{z}<extra></extra>\",\"legendgroup\":\"fourth\",\"marker\":{\"color\":\"#ab63fa\",\"symbol\":\"circle\",\"size\":3},\"mode\":\"markers\",\"name\":\"fourth\",\"scene\":\"scene\",\"showlegend\":true,\"x\":[0.83,0.822,0.924,0.854,0.87,0.939,0.912,0.92],\"y\":[65077.71446,52967.77768,80285.84238,83720.69503,45232.21124,81035.0282,63016.40122,61461.64197],\"z\":[22.54965,22.231573,12.642754,25.771225,18.277689,24.238314,19.84806,15.471115],\"type\":\"scatter3d\"}],                        {\"template\":{\"data\":{\"histogram2dcontour\":[{\"type\":\"histogram2dcontour\",\"colorbar\":{\"outlinewidth\":0,\"ticks\":\"\"},\"colorscale\":[[0.0,\"#0d0887\"],[0.1111111111111111,\"#46039f\"],[0.2222222222222222,\"#7201a8\"],[0.3333333333333333,\"#9c179e\"],[0.4444444444444444,\"#bd3786\"],[0.5555555555555556,\"#d8576b\"],[0.6666666666666666,\"#ed7953\"],[0.7777777777777778,\"#fb9f3a\"],[0.8888888888888888,\"#fdca26\"],[1.0,\"#f0f921\"]]}],\"choropleth\":[{\"type\":\"choropleth\",\"colorbar\":{\"outlinewidth\":0,\"ticks\":\"\"}}],\"histogram2d\":[{\"type\":\"histogram2d\",\"colorbar\":{\"outlinewidth\":0,\"ticks\":\"\"},\"colorscale\":[[0.0,\"#0d0887\"],[0.1111111111111111,\"#46039f\"],[0.2222222222222222,\"#7201a8\"],[0.3333333333333333,\"#9c179e\"],[0.4444444444444444,\"#bd3786\"],[0.5555555555555556,\"#d8576b\"],[0.6666666666666666,\"#ed7953\"],[0.7777777777777778,\"#fb9f3a\"],[0.8888888888888888,\"#fdca26\"],[1.0,\"#f0f921\"]]}],\"heatmap\":[{\"type\":\"heatmap\",\"colorbar\":{\"outlinewidth\":0,\"ticks\":\"\"},\"colorscale\":[[0.0,\"#0d0887\"],[0.1111111111111111,\"#46039f\"],[0.2222222222222222,\"#7201a8\"],[0.3333333333333333,\"#9c179e\"],[0.4444444444444444,\"#bd3786\"],[0.5555555555555556,\"#d8576b\"],[0.6666666666666666,\"#ed7953\"],[0.7777777777777778,\"#fb9f3a\"],[0.8888888888888888,\"#fdca26\"],[1.0,\"#f0f921\"]]}],\"heatmapgl\":[{\"type\":\"heatmapgl\",\"colorbar\":{\"outlinewidth\":0,\"ticks\":\"\"},\"colorscale\":[[0.0,\"#0d0887\"],[0.1111111111111111,\"#46039f\"],[0.2222222222222222,\"#7201a8\"],[0.3333333333333333,\"#9c179e\"],[0.4444444444444444,\"#bd3786\"],[0.5555555555555556,\"#d8576b\"],[0.6666666666666666,\"#ed7953\"],[0.7777777777777778,\"#fb9f3a\"],[0.8888888888888888,\"#fdca26\"],[1.0,\"#f0f921\"]]}],\"contourcarpet\":[{\"type\":\"contourcarpet\",\"colorbar\":{\"outlinewidth\":0,\"ticks\":\"\"}}],\"contour\":[{\"type\":\"contour\",\"colorbar\":{\"outlinewidth\":0,\"ticks\":\"\"},\"colorscale\":[[0.0,\"#0d0887\"],[0.1111111111111111,\"#46039f\"],[0.2222222222222222,\"#7201a8\"],[0.3333333333333333,\"#9c179e\"],[0.4444444444444444,\"#bd3786\"],[0.5555555555555556,\"#d8576b\"],[0.6666666666666666,\"#ed7953\"],[0.7777777777777778,\"#fb9f3a\"],[0.8888888888888888,\"#fdca26\"],[1.0,\"#f0f921\"]]}],\"surface\":[{\"type\":\"surface\",\"colorbar\":{\"outlinewidth\":0,\"ticks\":\"\"},\"colorscale\":[[0.0,\"#0d0887\"],[0.1111111111111111,\"#46039f\"],[0.2222222222222222,\"#7201a8\"],[0.3333333333333333,\"#9c179e\"],[0.4444444444444444,\"#bd3786\"],[0.5555555555555556,\"#d8576b\"],[0.6666666666666666,\"#ed7953\"],[0.7777777777777778,\"#fb9f3a\"],[0.8888888888888888,\"#fdca26\"],[1.0,\"#f0f921\"]]}],\"mesh3d\":[{\"type\":\"mesh3d\",\"colorbar\":{\"outlinewidth\":0,\"ticks\":\"\"}}],\"scatter\":[{\"fillpattern\":{\"fillmode\":\"overlay\",\"size\":10,\"solidity\":0.2},\"type\":\"scatter\"}],\"parcoords\":[{\"type\":\"parcoords\",\"line\":{\"colorbar\":{\"outlinewidth\":0,\"ticks\":\"\"}}}],\"scatterpolargl\":[{\"type\":\"scatterpolargl\",\"marker\":{\"colorbar\":{\"outlinewidth\":0,\"ticks\":\"\"}}}],\"bar\":[{\"error_x\":{\"color\":\"#2a3f5f\"},\"error_y\":{\"color\":\"#2a3f5f\"},\"marker\":{\"line\":{\"color\":\"#E5ECF6\",\"width\":0.5},\"pattern\":{\"fillmode\":\"overlay\",\"size\":10,\"solidity\":0.2}},\"type\":\"bar\"}],\"scattergeo\":[{\"type\":\"scattergeo\",\"marker\":{\"colorbar\":{\"outlinewidth\":0,\"ticks\":\"\"}}}],\"scatterpolar\":[{\"type\":\"scatterpolar\",\"marker\":{\"colorbar\":{\"outlinewidth\":0,\"ticks\":\"\"}}}],\"histogram\":[{\"marker\":{\"pattern\":{\"fillmode\":\"overlay\",\"size\":10,\"solidity\":0.2}},\"type\":\"histogram\"}],\"scattergl\":[{\"type\":\"scattergl\",\"marker\":{\"colorbar\":{\"outlinewidth\":0,\"ticks\":\"\"}}}],\"scatter3d\":[{\"type\":\"scatter3d\",\"line\":{\"colorbar\":{\"outlinewidth\":0,\"ticks\":\"\"}},\"marker\":{\"colorbar\":{\"outlinewidth\":0,\"ticks\":\"\"}}}],\"scattermapbox\":[{\"type\":\"scattermapbox\",\"marker\":{\"colorbar\":{\"outlinewidth\":0,\"ticks\":\"\"}}}],\"scatterternary\":[{\"type\":\"scatterternary\",\"marker\":{\"colorbar\":{\"outlinewidth\":0,\"ticks\":\"\"}}}],\"scattercarpet\":[{\"type\":\"scattercarpet\",\"marker\":{\"colorbar\":{\"outlinewidth\":0,\"ticks\":\"\"}}}],\"carpet\":[{\"aaxis\":{\"endlinecolor\":\"#2a3f5f\",\"gridcolor\":\"white\",\"linecolor\":\"white\",\"minorgridcolor\":\"white\",\"startlinecolor\":\"#2a3f5f\"},\"baxis\":{\"endlinecolor\":\"#2a3f5f\",\"gridcolor\":\"white\",\"linecolor\":\"white\",\"minorgridcolor\":\"white\",\"startlinecolor\":\"#2a3f5f\"},\"type\":\"carpet\"}],\"table\":[{\"cells\":{\"fill\":{\"color\":\"#EBF0F8\"},\"line\":{\"color\":\"white\"}},\"header\":{\"fill\":{\"color\":\"#C8D4E3\"},\"line\":{\"color\":\"white\"}},\"type\":\"table\"}],\"barpolar\":[{\"marker\":{\"line\":{\"color\":\"#E5ECF6\",\"width\":0.5},\"pattern\":{\"fillmode\":\"overlay\",\"size\":10,\"solidity\":0.2}},\"type\":\"barpolar\"}],\"pie\":[{\"automargin\":true,\"type\":\"pie\"}]},\"layout\":{\"autotypenumbers\":\"strict\",\"colorway\":[\"#636efa\",\"#EF553B\",\"#00cc96\",\"#ab63fa\",\"#FFA15A\",\"#19d3f3\",\"#FF6692\",\"#B6E880\",\"#FF97FF\",\"#FECB52\"],\"font\":{\"color\":\"#2a3f5f\"},\"hovermode\":\"closest\",\"hoverlabel\":{\"align\":\"left\"},\"paper_bgcolor\":\"white\",\"plot_bgcolor\":\"#E5ECF6\",\"polar\":{\"bgcolor\":\"#E5ECF6\",\"angularaxis\":{\"gridcolor\":\"white\",\"linecolor\":\"white\",\"ticks\":\"\"},\"radialaxis\":{\"gridcolor\":\"white\",\"linecolor\":\"white\",\"ticks\":\"\"}},\"ternary\":{\"bgcolor\":\"#E5ECF6\",\"aaxis\":{\"gridcolor\":\"white\",\"linecolor\":\"white\",\"ticks\":\"\"},\"baxis\":{\"gridcolor\":\"white\",\"linecolor\":\"white\",\"ticks\":\"\"},\"caxis\":{\"gridcolor\":\"white\",\"linecolor\":\"white\",\"ticks\":\"\"}},\"coloraxis\":{\"colorbar\":{\"outlinewidth\":0,\"ticks\":\"\"}},\"colorscale\":{\"sequential\":[[0.0,\"#0d0887\"],[0.1111111111111111,\"#46039f\"],[0.2222222222222222,\"#7201a8\"],[0.3333333333333333,\"#9c179e\"],[0.4444444444444444,\"#bd3786\"],[0.5555555555555556,\"#d8576b\"],[0.6666666666666666,\"#ed7953\"],[0.7777777777777778,\"#fb9f3a\"],[0.8888888888888888,\"#fdca26\"],[1.0,\"#f0f921\"]],\"sequentialminus\":[[0.0,\"#0d0887\"],[0.1111111111111111,\"#46039f\"],[0.2222222222222222,\"#7201a8\"],[0.3333333333333333,\"#9c179e\"],[0.4444444444444444,\"#bd3786\"],[0.5555555555555556,\"#d8576b\"],[0.6666666666666666,\"#ed7953\"],[0.7777777777777778,\"#fb9f3a\"],[0.8888888888888888,\"#fdca26\"],[1.0,\"#f0f921\"]],\"diverging\":[[0,\"#8e0152\"],[0.1,\"#c51b7d\"],[0.2,\"#de77ae\"],[0.3,\"#f1b6da\"],[0.4,\"#fde0ef\"],[0.5,\"#f7f7f7\"],[0.6,\"#e6f5d0\"],[0.7,\"#b8e186\"],[0.8,\"#7fbc41\"],[0.9,\"#4d9221\"],[1,\"#276419\"]]},\"xaxis\":{\"gridcolor\":\"white\",\"linecolor\":\"white\",\"ticks\":\"\",\"title\":{\"standoff\":15},\"zerolinecolor\":\"white\",\"automargin\":true,\"zerolinewidth\":2},\"yaxis\":{\"gridcolor\":\"white\",\"linecolor\":\"white\",\"ticks\":\"\",\"title\":{\"standoff\":15},\"zerolinecolor\":\"white\",\"automargin\":true,\"zerolinewidth\":2},\"scene\":{\"xaxis\":{\"backgroundcolor\":\"#E5ECF6\",\"gridcolor\":\"white\",\"linecolor\":\"white\",\"showbackground\":true,\"ticks\":\"\",\"zerolinecolor\":\"white\",\"gridwidth\":2},\"yaxis\":{\"backgroundcolor\":\"#E5ECF6\",\"gridcolor\":\"white\",\"linecolor\":\"white\",\"showbackground\":true,\"ticks\":\"\",\"zerolinecolor\":\"white\",\"gridwidth\":2},\"zaxis\":{\"backgroundcolor\":\"#E5ECF6\",\"gridcolor\":\"white\",\"linecolor\":\"white\",\"showbackground\":true,\"ticks\":\"\",\"zerolinecolor\":\"white\",\"gridwidth\":2}},\"shapedefaults\":{\"line\":{\"color\":\"#2a3f5f\"}},\"annotationdefaults\":{\"arrowcolor\":\"#2a3f5f\",\"arrowhead\":0,\"arrowwidth\":1},\"geo\":{\"bgcolor\":\"white\",\"landcolor\":\"#E5ECF6\",\"subunitcolor\":\"white\",\"showland\":true,\"showlakes\":true,\"lakecolor\":\"white\"},\"title\":{\"x\":0.05},\"mapbox\":{\"style\":\"light\"}}},\"scene\":{\"domain\":{\"x\":[0.0,1.0],\"y\":[0.0,1.0]},\"xaxis\":{\"title\":{\"text\":\"hdi\"}},\"yaxis\":{\"title\":{\"text\":\"gni\"}},\"zaxis\":{\"title\":{\"text\":\"co2_consumption\"}}},\"legend\":{\"title\":{\"text\":\"Segment\"},\"tracegroupgap\":0},\"margin\":{\"t\":60}},                        {\"responsive\": true}                    ).then(function(){\n",
       "                            \n",
       "var gd = document.getElementById('0783895b-4b99-4e80-8967-aca4e0633ffb');\n",
       "var x = new MutationObserver(function (mutations, observer) {{\n",
       "        var display = window.getComputedStyle(gd).display;\n",
       "        if (!display || display === 'none') {{\n",
       "            console.log([gd, 'removed!']);\n",
       "            Plotly.purge(gd);\n",
       "            observer.disconnect();\n",
       "        }}\n",
       "}});\n",
       "\n",
       "// Listen for the removal of the full notebook cells\n",
       "var notebookContainer = gd.closest('#notebook-container');\n",
       "if (notebookContainer) {{\n",
       "    x.observe(notebookContainer, {childList: true});\n",
       "}}\n",
       "\n",
       "// Listen for the clearing of the current output cell\n",
       "var outputEl = gd.closest('.output');\n",
       "if (outputEl) {{\n",
       "    x.observe(outputEl, {childList: true});\n",
       "}}\n",
       "\n",
       "                        })                };                });            </script>        </div>"
      ]
     },
     "metadata": {},
     "output_type": "display_data"
    }
   ],
   "source": [
    "# Create a 3d scatterplot of 'HDI', 'GNI' and 'CO2 consumption' with plotly\n",
    "\n",
    "fig = px.scatter_3d(df_pca_kmeans, x='hdi', y='gni', z='co2_consumption', color='Segment')\n",
    "fig.update_traces(marker_size = 3)\n",
    "fig.show()"
   ]
  },
  {
   "cell_type": "code",
   "execution_count": 56,
   "id": "346feca2",
   "metadata": {
    "scrolled": true
   },
   "outputs": [
    {
     "data": {
      "text/html": [
       "<div>\n",
       "<style scoped>\n",
       "    .dataframe tbody tr th:only-of-type {\n",
       "        vertical-align: middle;\n",
       "    }\n",
       "\n",
       "    .dataframe tbody tr th {\n",
       "        vertical-align: top;\n",
       "    }\n",
       "\n",
       "    .dataframe thead tr th {\n",
       "        text-align: left;\n",
       "    }\n",
       "\n",
       "    .dataframe thead tr:last-of-type th {\n",
       "        text-align: right;\n",
       "    }\n",
       "</style>\n",
       "<table border=\"1\" class=\"dataframe\">\n",
       "  <thead>\n",
       "    <tr>\n",
       "      <th></th>\n",
       "      <th colspan=\"2\" halign=\"left\">year</th>\n",
       "      <th colspan=\"2\" halign=\"left\">hdi</th>\n",
       "      <th colspan=\"2\" halign=\"left\">gni</th>\n",
       "      <th colspan=\"2\" halign=\"left\">co2_consumption</th>\n",
       "    </tr>\n",
       "    <tr>\n",
       "      <th></th>\n",
       "      <th>mean</th>\n",
       "      <th>median</th>\n",
       "      <th>mean</th>\n",
       "      <th>median</th>\n",
       "      <th>mean</th>\n",
       "      <th>median</th>\n",
       "      <th>mean</th>\n",
       "      <th>median</th>\n",
       "    </tr>\n",
       "    <tr>\n",
       "      <th>Segment</th>\n",
       "      <th></th>\n",
       "      <th></th>\n",
       "      <th></th>\n",
       "      <th></th>\n",
       "      <th></th>\n",
       "      <th></th>\n",
       "      <th></th>\n",
       "      <th></th>\n",
       "    </tr>\n",
       "  </thead>\n",
       "  <tbody>\n",
       "    <tr>\n",
       "      <th>first</th>\n",
       "      <td>2020.0</td>\n",
       "      <td>2020.0</td>\n",
       "      <td>0.582667</td>\n",
       "      <td>0.578</td>\n",
       "      <td>4170.221939</td>\n",
       "      <td>4032.751435</td>\n",
       "      <td>0.934126</td>\n",
       "      <td>0.741153</td>\n",
       "    </tr>\n",
       "    <tr>\n",
       "      <th>fourth</th>\n",
       "      <td>2020.0</td>\n",
       "      <td>2020.0</td>\n",
       "      <td>0.883875</td>\n",
       "      <td>0.891</td>\n",
       "      <td>66599.664023</td>\n",
       "      <td>64047.057840</td>\n",
       "      <td>20.128798</td>\n",
       "      <td>21.039817</td>\n",
       "    </tr>\n",
       "    <tr>\n",
       "      <th>second</th>\n",
       "      <td>2020.0</td>\n",
       "      <td>2020.0</td>\n",
       "      <td>0.910636</td>\n",
       "      <td>0.917</td>\n",
       "      <td>43609.180092</td>\n",
       "      <td>41946.388220</td>\n",
       "      <td>9.650140</td>\n",
       "      <td>8.815055</td>\n",
       "    </tr>\n",
       "    <tr>\n",
       "      <th>third</th>\n",
       "      <td>2020.0</td>\n",
       "      <td>2020.0</td>\n",
       "      <td>0.781024</td>\n",
       "      <td>0.777</td>\n",
       "      <td>17107.707082</td>\n",
       "      <td>14696.027010</td>\n",
       "      <td>4.114404</td>\n",
       "      <td>3.705759</td>\n",
       "    </tr>\n",
       "  </tbody>\n",
       "</table>\n",
       "</div>"
      ],
      "text/plain": [
       "           year               hdi                  gni                \\\n",
       "           mean  median      mean median          mean        median   \n",
       "Segment                                                                \n",
       "first    2020.0  2020.0  0.582667  0.578   4170.221939   4032.751435   \n",
       "fourth   2020.0  2020.0  0.883875  0.891  66599.664023  64047.057840   \n",
       "second   2020.0  2020.0  0.910636  0.917  43609.180092  41946.388220   \n",
       "third    2020.0  2020.0  0.781024  0.777  17107.707082  14696.027010   \n",
       "\n",
       "        co2_consumption             \n",
       "                   mean     median  \n",
       "Segment                             \n",
       "first          0.934126   0.741153  \n",
       "fourth        20.128798  21.039817  \n",
       "second         9.650140   8.815055  \n",
       "third          4.114404   3.705759  "
      ]
     },
     "execution_count": 56,
     "metadata": {},
     "output_type": "execute_result"
    }
   ],
   "source": [
    "# Examine descriptive cluster statistics\n",
    "\n",
    "df_pca_kmeans.groupby('Segment').agg({'year':['mean', 'median'],\n",
    "                          'hdi':['mean', 'median'],\n",
    "                          'gni':['mean', 'median'],\n",
    "                          'co2_consumption':['mean', 'median']})"
   ]
  },
  {
   "cell_type": "code",
   "execution_count": 55,
   "id": "6d275ef5",
   "metadata": {},
   "outputs": [
    {
     "data": {
      "text/plain": [
       "third     41\n",
       "second    33\n",
       "first     33\n",
       "fourth     8\n",
       "Name: Segment, dtype: int64"
      ]
     },
     "execution_count": 55,
     "metadata": {},
     "output_type": "execute_result"
    }
   ],
   "source": [
    "df_pca_kmeans['Segment'].value_counts()"
   ]
  },
  {
   "cell_type": "markdown",
   "id": "df5f3610",
   "metadata": {},
   "source": [
    "A few exploratory facts become apparent in the above scatterplors and descriptive statistics:\n",
    "\n",
    "1. Two clusters respectively appear to group together earlier and later years: The first and fourth have their mean and median in the early 2010s, and second and third cluster in the late 1990s.\n",
    "\n",
    "\n",
    "2. The second and first cluster appear to contain the \"less developed\" countries, in earlier and later years. The same appears to apply to the \"more developed\" countries in the fourth and third clusters.\n",
    "\n",
    "\n",
    "3. The third cluster comprises the lowest stats for HDI, GNI and CO2 values. The first cluster contains measurably higher HDI and GNI values, and slightly higher stats for CO2. Could that be indicative that while HDI and GNI of the \"less developed\" countries slightly increased over time, so did their CO2 footprint?\n",
    "\n",
    "\n",
    "4. The fourth cluster is interesting because it contains the highest HDI and GNI values, but lower CO2 consumption than the second cluster (which contains the highest CO2). Could that be indicative that while HDI and GNI of the \"more developed\" countries over time, some managed to lower their CO2 footprint?"
   ]
  },
  {
   "cell_type": "code",
   "execution_count": null,
   "id": "25d367e0",
   "metadata": {},
   "outputs": [],
   "source": []
  }
 ],
 "metadata": {
  "kernelspec": {
   "display_name": "Python 3 (ipykernel)",
   "language": "python",
   "name": "python3"
  },
  "language_info": {
   "codemirror_mode": {
    "name": "ipython",
    "version": 3
   },
   "file_extension": ".py",
   "mimetype": "text/x-python",
   "name": "python",
   "nbconvert_exporter": "python",
   "pygments_lexer": "ipython3",
   "version": "3.9.15"
  }
 },
 "nbformat": 4,
 "nbformat_minor": 5
}
